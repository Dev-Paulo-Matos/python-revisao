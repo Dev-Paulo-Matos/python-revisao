{
  "cells": [
    {
      "cell_type": "markdown",
      "metadata": {
        "id": "2ZD0dD4T4lyn"
      },
      "source": [
        "#03 - Exercícios Curso Intensivo de Python\n",
        "\n",
        "Estes são exercícios opcionais para testar sua compreensão do Python Básico. Se você achar isso extremamente desafiador, provavelmente ainda não está pronto para o restante do curso e não tem experiência de programação suficiente para continuar. Sugiro que você faça outro curso mais voltado para iniciantes completos."
      ]
    },
    {
      "cell_type": "markdown",
      "metadata": {
        "id": "PDEaoYxh4lyq"
      },
      "source": [
        "##Exercícios\n",
        "\n",
        "Responda às perguntas ou conclua as tarefas descritas em negrito abaixo, use o método específico descrito, se aplicável."
      ]
    },
    {
      "cell_type": "markdown",
      "metadata": {
        "id": "eVNwi_1L4lyq"
      },
      "source": [
        "**Quanto é 7 elevado a 4?**"
      ]
    },
    {
      "cell_type": "code",
      "execution_count": 1,
      "metadata": {
        "id": "MxaNuJ414lyq",
        "outputId": "29c4ba61-49ec-40c1-bc50-9dfc4c139e82",
        "colab": {
          "base_uri": "https://localhost:8080/"
        }
      },
      "outputs": [
        {
          "output_type": "execute_result",
          "data": {
            "text/plain": [
              "2401"
            ]
          },
          "metadata": {},
          "execution_count": 1
        }
      ],
      "source": [
        "7**4"
      ]
    },
    {
      "cell_type": "markdown",
      "metadata": {
        "id": "OUyD1Omz4lyr"
      },
      "source": [
        "**Divida esta string:**\n",
        "\n",
        "    s = \"Hi there Sam!\"\n",
        "    \n",
        "**em uma lista.**"
      ]
    },
    {
      "cell_type": "code",
      "execution_count": 6,
      "metadata": {
        "id": "ubO5oiZg4lys",
        "outputId": "cd258364-b2f2-4c75-b4cb-b61c7dccf905",
        "colab": {
          "base_uri": "https://localhost:8080/"
        }
      },
      "outputs": [
        {
          "output_type": "execute_result",
          "data": {
            "text/plain": [
              "['Hi', 'there', 'Sam!']"
            ]
          },
          "metadata": {},
          "execution_count": 6
        }
      ],
      "source": [
        "s = \"Hi there Sam!\"\n",
        "s.split()"
      ]
    },
    {
      "cell_type": "markdown",
      "metadata": {
        "id": "5daj87rJ4lys"
      },
      "source": [
        "**Dadas as variáveis:**\n",
        "\n",
        "    planet = \"Earth\"\n",
        "    diameter = 12742\n",
        "\n",
        "**Use .format() para imprimir a seguinte string:**\n",
        "\n",
        "    The diameter of Earth is 12742 kilometers."
      ]
    },
    {
      "cell_type": "code",
      "execution_count": 30,
      "metadata": {
        "collapsed": true,
        "id": "ySqr3Zv14lys",
        "outputId": "7a2d6213-f7ca-4955-a5ff-b4b3d162e5d1",
        "colab": {
          "base_uri": "https://localhost:8080/",
          "height": 35
        }
      },
      "outputs": [
        {
          "output_type": "execute_result",
          "data": {
            "text/plain": [
              "'The diameter of Earth is 12742 kilometers'"
            ],
            "application/vnd.google.colaboratory.intrinsic+json": {
              "type": "string"
            }
          },
          "metadata": {},
          "execution_count": 30
        }
      ],
      "source": [
        "\n",
        "planet = \"Earth\"\n",
        "diameter = 12742\n",
        "\n",
        "\"The diameter of {} is {} kilometers\".format(planet, diameter)"
      ]
    },
    {
      "cell_type": "markdown",
      "metadata": {
        "id": "m2j3xkWq4lyt"
      },
      "source": [
        "**Dada esta lista aninhada (nested list), use a indexação para pegar a palavra \"hello\"**"
      ]
    },
    {
      "cell_type": "code",
      "execution_count": 14,
      "metadata": {
        "collapsed": true,
        "id": "XRxSTE3-4lyt"
      },
      "outputs": [],
      "source": [
        "lst = [1,2,[3,4],[5,[100,200,['hello']],23,11],1,7]"
      ]
    },
    {
      "cell_type": "code",
      "execution_count": 15,
      "metadata": {
        "id": "8Np2hGix4lyt",
        "outputId": "7755bb17-098c-4470-c1ea-cb5d6282cc9a",
        "colab": {
          "base_uri": "https://localhost:8080/"
        }
      },
      "outputs": [
        {
          "output_type": "stream",
          "name": "stdout",
          "text": [
            "['hello']\n"
          ]
        }
      ],
      "source": [
        "print(lst[3][1][2])"
      ]
    },
    {
      "cell_type": "markdown",
      "metadata": {
        "id": "_miAZMDw4lyt"
      },
      "source": [
        "**Dado este dicionário aninhado (nested dictionary), pegue a palavra \"olá\" (isso será chato/complicado)**"
      ]
    },
    {
      "cell_type": "code",
      "execution_count": 17,
      "metadata": {
        "id": "qwx76S6V4lyt"
      },
      "outputs": [],
      "source": [
        "d = {'k1':[1,2,3,{'tricky':['oh','man','inception',{'target':[1,2,3,'hello']}]}]}"
      ]
    },
    {
      "cell_type": "code",
      "execution_count": 18,
      "metadata": {
        "id": "cpMJE04S4lyu",
        "outputId": "8549f4b2-9f93-4cfc-cd7f-c431c538ca6e",
        "colab": {
          "base_uri": "https://localhost:8080/",
          "height": 35
        }
      },
      "outputs": [
        {
          "output_type": "execute_result",
          "data": {
            "text/plain": [
              "'hello'"
            ],
            "application/vnd.google.colaboratory.intrinsic+json": {
              "type": "string"
            }
          },
          "metadata": {},
          "execution_count": 18
        }
      ],
      "source": [
        "d['k1'][3]['tricky'][3]['target'][3]"
      ]
    },
    {
      "cell_type": "markdown",
      "metadata": {
        "id": "WmOC5A8L4lyu"
      },
      "source": [
        "**Qual é a principal diferença entre uma tupla e uma lista?**"
      ]
    },
    {
      "cell_type": "code",
      "execution_count": 19,
      "metadata": {
        "collapsed": true,
        "id": "S0zqcqeV4lyu",
        "outputId": "3152dd44-2630-443a-b7e7-3dd120a42da6",
        "colab": {
          "base_uri": "https://localhost:8080/",
          "height": 35
        }
      },
      "outputs": [
        {
          "output_type": "execute_result",
          "data": {
            "text/plain": [
              "'A tupla não se altera, e não pode ser ordenada ou alterada'"
            ],
            "application/vnd.google.colaboratory.intrinsic+json": {
              "type": "string"
            }
          },
          "metadata": {},
          "execution_count": 19
        }
      ],
      "source": [
        "'A tupla não se altera, e não pode ser ordenada ou alterada'"
      ]
    },
    {
      "cell_type": "markdown",
      "metadata": {
        "id": "uVrPeF_Q4lyu"
      },
      "source": [
        "**Crie uma função que pegue o domínio do site de email de uma string na forma:**\n",
        "\n",
        "    user@domain.com\n",
        "    \n",
        "**Por exemplo, passar \"usuário@domínio.com\" retornaria: domínio.com**"
      ]
    },
    {
      "cell_type": "code",
      "execution_count": 20,
      "metadata": {
        "id": "nYfBgtDK4lyu",
        "outputId": "ecf698ad-e0f3-4474-a316-1a0360b93752",
        "colab": {
          "base_uri": "https://localhost:8080/",
          "height": 35
        }
      },
      "outputs": [
        {
          "output_type": "execute_result",
          "data": {
            "text/plain": [
              "'domínio.com'"
            ],
            "application/vnd.google.colaboratory.intrinsic+json": {
              "type": "string"
            }
          },
          "metadata": {},
          "execution_count": 20
        }
      ],
      "source": [
        "def getDomain(email):\n",
        "  return email.split('@')[1]\n",
        "\n",
        "getDomain(\"usuário@domínio.com\")"
      ]
    },
    {
      "cell_type": "markdown",
      "metadata": {
        "id": "gAr8Pdkn4lyv"
      },
      "source": [
        "**Crie uma função básica que retorne True se a palavra 'dog' estiver contida na string de entrada. Não se preocupe com casos extremos, como uma pontuação sendo anexada à palavra dog, mas leve em consideração a capitalização.**"
      ]
    },
    {
      "cell_type": "code",
      "execution_count": 34,
      "metadata": {
        "collapsed": true,
        "id": "4zF9uIro4lyv",
        "outputId": "2d87b11f-7e91-4864-f4f2-f306640cb12b",
        "colab": {
          "base_uri": "https://localhost:8080/"
        }
      },
      "outputs": [
        {
          "output_type": "execute_result",
          "data": {
            "text/plain": [
              "False"
            ]
          },
          "metadata": {},
          "execution_count": 34
        }
      ],
      "source": [
        "def containDog(txt):\n",
        "  return 'dog' in txt.lower()\n",
        "\n",
        "containDog('Possui a')"
      ]
    },
    {
      "cell_type": "markdown",
      "metadata": {
        "id": "rGnXeNEY4lyv"
      },
      "source": [
        "**Crie uma função que conte o número de vezes que a palavra \"dog\" ocorre em uma string. Novamente ignore os casos extremos.**"
      ]
    },
    {
      "cell_type": "code",
      "execution_count": 42,
      "metadata": {
        "id": "ReK7AFZn4lyv",
        "outputId": "82bcf00e-3674-46b0-9f2d-05c91c85b9c1",
        "colab": {
          "base_uri": "https://localhost:8080/"
        }
      },
      "outputs": [
        {
          "output_type": "execute_result",
          "data": {
            "text/plain": [
              "4"
            ]
          },
          "metadata": {},
          "execution_count": 42
        }
      ],
      "source": [
        "def contarDog(txt):\n",
        "  return len(txt.split('dog')) - 1\n",
        "\n",
        "contarDog(\"dog, dog dog dog\")"
      ]
    },
    {
      "cell_type": "markdown",
      "metadata": {
        "id": "Lbkq0N0b4lyw"
      },
      "source": [
        "**Use expressões lambda e a função filter() para filtrar palavras de uma lista que não comecem com a letra 's'. Por exemplo:**\n",
        "\n",
        "    seq = ['soup','dog','salad','cat','great']\n",
        "\n",
        "**deve ser filtrado para:**\n",
        "\n",
        "    ['soup','salad']"
      ]
    },
    {
      "cell_type": "code",
      "execution_count": 54,
      "metadata": {
        "collapsed": true,
        "id": "4IV5F_Dz4lyw",
        "outputId": "27907981-5862-4da5-de5b-7719073a3dcf",
        "colab": {
          "base_uri": "https://localhost:8080/"
        }
      },
      "outputs": [
        {
          "output_type": "execute_result",
          "data": {
            "text/plain": [
              "['soup', 'salad']"
            ]
          },
          "metadata": {},
          "execution_count": 54
        }
      ],
      "source": [
        "seq = ['soup','dog','salad','cat','great']\n",
        "list(filter(lambda x: 's' in x , seq))"
      ]
    },
    {
      "cell_type": "markdown",
      "metadata": {
        "id": "hz87RbvY4lyw"
      },
      "source": [
        "###Problema final\n",
        "**Você está dirigindo um pouco rápido demais e um policial o para. Escreva uma função para retornar um dos 3 resultados possíveis: \"No ticket\", \"Small ticket\" ou \"Big Ticket\".\n",
        "  Se a sua velocidade for 60 ou menos, o resultado é \"Sem Bilhete\". Se a velocidade estiver entre 61 e 80 inclusive, o resultado é \"Small Ticket\". Se a velocidade for 81 ou mais, o resultado é \"Big Ticket\". A menos que seja seu aniversário (codificado como um valor booleano nos parâmetros da função) -- em seu aniversário, sua velocidade pode ser 5 unidades maior em todos casos. **"
      ]
    },
    {
      "cell_type": "code",
      "execution_count": 58,
      "metadata": {
        "collapsed": true,
        "id": "PfNIXXkr4lyw",
        "outputId": "7f908bd8-04c6-436a-e757-55c50ae015ed",
        "colab": {
          "base_uri": "https://localhost:8080/",
          "height": 35
        }
      },
      "outputs": [
        {
          "output_type": "execute_result",
          "data": {
            "text/plain": [
              "'Big Ticket'"
            ],
            "application/vnd.google.colaboratory.intrinsic+json": {
              "type": "string"
            }
          },
          "metadata": {},
          "execution_count": 58
        }
      ],
      "source": [
        "def medirVelocidade(velocidade):\n",
        "  if(velocidade <= 60):\n",
        "    return 'Sem Bilhete'\n",
        "  elif(velocidade > 60 and velocidade <= 80):\n",
        "    return 'Small Ticket'\n",
        "  else:\n",
        "    return 'Big Ticket'\n",
        "\n",
        "medirVelocidade(81)"
      ]
    }
  ],
  "metadata": {
    "kernelspec": {
      "display_name": "Python 3",
      "language": "python",
      "name": "python3"
    },
    "language_info": {
      "codemirror_mode": {
        "name": "ipython",
        "version": 3
      },
      "file_extension": ".py",
      "mimetype": "text/x-python",
      "name": "python",
      "nbconvert_exporter": "python",
      "pygments_lexer": "ipython3",
      "version": "3.6.2"
    },
    "colab": {
      "provenance": [],
      "toc_visible": true
    }
  },
  "nbformat": 4,
  "nbformat_minor": 0
}